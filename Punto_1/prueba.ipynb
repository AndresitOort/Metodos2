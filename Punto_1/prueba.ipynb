{
 "cells": [
  {
   "cell_type": "code",
   "execution_count": 11,
   "metadata": {},
   "outputs": [
    {
     "ename": "SyntaxError",
     "evalue": "(unicode error) 'unicodeescape' codec can't decode bytes in position 2-3: truncated \\UXXXXXXXX escape (3828847582.py, line 41)",
     "output_type": "error",
     "traceback": [
      "\u001b[1;36m  Cell \u001b[1;32mIn[11], line 41\u001b[1;36m\u001b[0m\n\u001b[1;33m    csv_file = 'C:\\Users\\Admin\\Desktop\\Metodos computacionales 2\\Grupo 3\\Metodos2\\Metodos2\\Rhodium.csv'\u001b[0m\n\u001b[1;37m               ^\u001b[0m\n\u001b[1;31mSyntaxError\u001b[0m\u001b[1;31m:\u001b[0m (unicode error) 'unicodeescape' codec can't decode bytes in position 2-3: truncated \\UXXXXXXXX escape\n"
     ]
    }
   ],
   "source": [
    "import numpy as np\n",
    "import pandas as pd\n",
    "\n",
    "def eliminar_datos_corruptos_numpy(datos, columna_x, columna_y, ventana=5, umbral_desviacion=3):\n",
    "    \"\"\"\n",
    "    Elimina los datos corruptos que no siguen la tendencia general de un conjunto de datos usando NumPy.\n",
    "\n",
    "    Args:\n",
    "        datos (pd.DataFrame): DataFrame con los datos a procesar.\n",
    "        columna_x (str): Nombre de la columna de la variable independiente (e.g., Longitud de onda).\n",
    "        columna_y (str): Nombre de la columna de la variable dependiente (e.g., Intensidad).\n",
    "        ventana (int): Tamaño de la ventana para el cálculo de la media móvil.\n",
    "        umbral_desviacion (float): Factor para detectar desviaciones significativas (en desviaciones estándar).\n",
    "\n",
    "    Returns:\n",
    "        pd.DataFrame: DataFrame con los datos limpios, sin valores corruptos.\n",
    "    \"\"\"\n",
    "    # Convertir las columnas en arreglos NumPy\n",
    "    x = datos[columna_x].values\n",
    "    y = datos[columna_y].values\n",
    "\n",
    "    # Calcular la media móvil para suavizar la tendencia\n",
    "    suavizado = np.convolve(y, np.ones(ventana)/ventana, mode='same')\n",
    "\n",
    "    # Calcular la desviación absoluta entre los valores originales y la tendencia suavizada\n",
    "    desviacion = np.abs(y - suavizado)\n",
    "\n",
    "    # Calcular el límite de desviación aceptable\n",
    "    limite_desviacion = umbral_desviacion * np.std(desviacion)\n",
    "\n",
    "    # Filtrar los datos que no superen el límite de desviación\n",
    "    mascara = desviacion <= limite_desviacion\n",
    "    x_limpio = x[mascara]\n",
    "    y_limpio = y[mascara]\n",
    "\n",
    "    # Crear un DataFrame limpio con los datos restantes\n",
    "    datos_limpios = pd.DataFrame({columna_x: x_limpio, columna_y: y_limpio})\n",
    "    return datos_limpios\n",
    "# Filtrar los datos corruptos\n",
    "datos_limpios = eliminar_datos_corruptos_numpy(\n",
    "    datos,\n",
    "    columna_x=\"Longitud_de_onda\",\n",
    "    columna_y=\"Intensidad\",\n",
    "    ventana=5,\n",
    "    umbral_desviacion=3\n",
    ")\n",
    "\n",
    "# Mostrar los datos limpios\n",
    "print(datos_limpios)\n",
    "\n",
    "# Graficar los datos limpios\n",
    "import matplotlib.pyplot as plt\n",
    "\n",
    "plt.figure(figsize=(12, 6))\n",
    "plt.plot(datos_limpios[\"Longitud_de_onda\"], datos_limpios[\"Intensidad\"], label=\"Datos limpios\", color=\"blue\")\n",
    "plt.xlabel(\"Longitud de onda (pm)\")\n",
    "plt.ylabel(\"Intensidad (mJy)\")\n",
    "plt.title(\"Datos limpios usando NumPy\")\n",
    "plt.legend()\n",
    "plt.grid(True)\n",
    "plt.show()\n"
   ]
  }
 ],
 "metadata": {
  "kernelspec": {
   "display_name": "Python 3",
   "language": "python",
   "name": "python3"
  },
  "language_info": {
   "codemirror_mode": {
    "name": "ipython",
    "version": 3
   },
   "file_extension": ".py",
   "mimetype": "text/x-python",
   "name": "python",
   "nbconvert_exporter": "python",
   "pygments_lexer": "ipython3",
   "version": "3.12.4"
  }
 },
 "nbformat": 4,
 "nbformat_minor": 2
}
